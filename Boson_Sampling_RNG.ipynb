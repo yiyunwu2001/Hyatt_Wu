{
 "cells": [
  {
   "cell_type": "code",
   "execution_count": null,
   "id": "16cd2d0a",
   "metadata": {},
   "outputs": [],
   "source": [
    "### Package Installation ###\n",
    "pip install perceval-quandela"
   ]
  },
  {
   "cell_type": "code",
   "execution_count": 11,
   "id": "fb679afb",
   "metadata": {},
   "outputs": [
    {
     "data": {
      "text/html": [
       "<svg width='356.000000' height='150.000000' viewBox='-3.000000 0.000000 353.000000 150.000000'><path d=\"M 10 25 L 25 25\" fill=\"none\" stroke=\"black\" stroke-width=\"1.000000\" stroke-linejoin=\"miter\"/>\n",
       "<path d=\"M 10 75 L 25 75\" fill=\"none\" stroke=\"black\" stroke-width=\"1.000000\" stroke-linejoin=\"miter\"/>\n",
       "<path d=\"M 37.9442 25.0002 C 51.653800000000004 25.0002 51.5923 50.0 65.3019 50.0 M 65.3038 50.0 C 51.59219999999999 50.0 51.6538 74.9998 37.94409999999999 74.9998 M 65.3038 49.99999999999999 L 87.1884 49.99999999999999 M 87.1884 49.99999999999999 C 100.9 49.99999999999999 100.83840000000001 25.000199999999992 114.5481 25.000199999999992 M 87.1884 49.99999999999999 C 100.9 49.99999999999999 100.83840000000001 74.9998 114.5481 74.9998 M 25.0 24.999999999999993 L 38.0 24.999999999999993 M 38.0019 74.9998 L 25.0 74.9998 M 112.6453 74.9998 L 125.0 74.9998 M 112.1944 24.999799999999993 L 125.0 24.999799999999993\" fill=\"none\" stroke=\"black\" stroke-width=\"1.000000\" stroke-linejoin=\"miter\"/>\n",
       "<text x=\"75.000000\" y=\"38.000000\" font-size=\"7.000000\"  text-anchor=\"middle\"></text>\n",
       "<path d=\"M 125 25 L 145 25 M 155 25 L 175 25\" fill=\"none\" stroke=\"black\" stroke-width=\"1.000000\" stroke-linejoin=\"miter\"/>\n",
       "<path d=\"M 140 35 L 160 35 L 160 15 L 140 15 L 140 35\" fill=\"lightgray\" stroke=\"black\" stroke-width=\"1.000000\" stroke-linejoin=\"miter\"/>\n",
       "<text x=\"150.000000\" y=\"44.000000\" font-size=\"7.000000\"  text-anchor=\"middle\">Φ=φ_a</text>\n",
       "<polyline points=\"125 75 175 75\" fill=\"transparent\" stroke=\"black\" stroke-width=\"1.000000\" stroke-linejoin=\"miter\" />\n",
       "<path d=\"M 187.9442 25.0002 C 201.6538 25.0002 201.5923 50.0 215.3019 50.0 M 215.3038 50.0 C 201.5922 50.0 201.6538 74.9998 187.9441 74.9998 M 215.3038 49.99999999999999 L 237.1884 49.99999999999999 M 237.1884 49.99999999999999 C 250.9 49.99999999999999 250.8384 25.000199999999992 264.5481 25.000199999999992 M 237.18839999999997 49.99999999999999 C 250.89999999999998 49.99999999999999 250.83839999999998 74.9998 264.5481 74.9998 M 174.99999999999997 24.999999999999993 L 187.99999999999997 24.999999999999993 M 188.00189999999998 74.9998 L 174.99999999999997 74.9998 M 262.64529999999996 74.9998 L 274.99999999999994 74.9998 M 262.1944 24.999799999999993 L 275.0 24.999799999999993\" fill=\"none\" stroke=\"black\" stroke-width=\"1.000000\" stroke-linejoin=\"miter\"/>\n",
       "<text x=\"225.000000\" y=\"38.000000\" font-size=\"7.000000\"  text-anchor=\"middle\"></text>\n",
       "<path d=\"M 275 75 L 295 75 M 305 75 L 325 75\" fill=\"none\" stroke=\"black\" stroke-width=\"1.000000\" stroke-linejoin=\"miter\"/>\n",
       "<path d=\"M 290 85 L 310 85 L 310 65 L 290 65 L 290 85\" fill=\"lightgray\" stroke=\"black\" stroke-width=\"1.000000\" stroke-linejoin=\"miter\"/>\n",
       "<text x=\"300.000000\" y=\"94.000000\" font-size=\"7.000000\"  text-anchor=\"middle\">Φ=φ_b</text>\n",
       "<polyline points=\"275 25 325 25\" fill=\"transparent\" stroke=\"black\" stroke-width=\"1.000000\" stroke-linejoin=\"miter\" />\n",
       "<path d=\"M 325 25 L 340 25\" fill=\"none\" stroke=\"black\" stroke-width=\"1.000000\" stroke-linejoin=\"miter\"/>\n",
       "<path d=\"M 325 75 L 340 75\" fill=\"none\" stroke=\"black\" stroke-width=\"1.000000\" stroke-linejoin=\"miter\"/>\n",
       "<text x=\"350.000000\" y=\"25.000000\" font-size=\"6.000000\"  text-anchor=\"end\">0</text>\n",
       "<text x=\"350.000000\" y=\"75.000000\" font-size=\"6.000000\"  text-anchor=\"end\">1</text>\n",
       "<text x=\"0.000000\" y=\"25.000000\" font-size=\"6.000000\"  text-anchor=\"start\">0</text>\n",
       "<text x=\"0.000000\" y=\"75.000000\" font-size=\"6.000000\"  text-anchor=\"start\">1</text></svg>"
      ],
      "text/plain": [
       "<IPython.core.display.HTML object>"
      ]
     },
     "metadata": {},
     "output_type": "display_data"
    }
   ],
   "source": [
    "from IPython import display\n",
    "from collections import Counter\n",
    "from tabulate import tabulate\n",
    "from tqdm.auto import tqdm\n",
    "import gzip\n",
    "import pickle\n",
    "import time\n",
    "\n",
    "import sympy as sp\n",
    "import random\n",
    "\n",
    "import perceval as pcvl\n",
    "import perceval.lib.symb as symb\n",
    "\n",
    "n = 14 # Number of photons at the input\n",
    "m = 60 # Number of modes\n",
    "N = 2  # Number of samples\n",
    "\n",
    "Unitary_60 = pcvl.Matrix.random_unitary(m) # Creates a random unitary of dimension 60\n",
    "\n",
    "# Define a 2-mode unitary circuit that we can use to decompose the 60 mode unitary\n",
    "mzi = (symb.BS() // (0, symb.PS(phi=pcvl.Parameter(\"φ_a\")))\n",
    "       // symb.BS() // (1, symb.PS(phi=pcvl.Parameter(\"φ_b\"))))\n",
    "pcvl.pdisplay(mzi)"
   ]
  },
  {
   "cell_type": "code",
   "execution_count": 12,
   "id": "f0bbed07",
   "metadata": {},
   "outputs": [
    {
     "name": "stdout",
     "output_type": "stream",
     "text": [
      "The input state:  |0,0,0,0,0,0,1,0,0,0,1,0,0,1,0,0,0,0,0,1,0,0,0,0,0,1,1,0,0,1,0,0,0,1,1,0,1,0,0,0,0,1,0,0,0,0,0,1,0,0,1,0,0,0,1,0,0,0,0,0>\n"
     ]
    }
   ],
   "source": [
    "# Decompose the unitary into a Reck's type circuit\n",
    "Linear_Circuit_60 = pcvl.Circuit.decomposition(Unitary_60, mzi,\n",
    "                                               phase_shifter_fn=symb.PS,\n",
    "                                               shape=\"triangle\")\n",
    "\n",
    "# Sampling using CliffordClifford2017 backend\n",
    "Sampling_Backend = pcvl.BackendFactory().get_backend(\"CliffordClifford2017\")\n",
    "\n",
    "# Select a random input\n",
    "def Generating_Input(n, m, modes = None):\n",
    "    \"This function randomly chooses an input with n photons in m modes.\"\n",
    "    if modes == None :\n",
    "        modes = sorted(random.sample(range(m),n))\n",
    "    state = \"|\"\n",
    "    for i in range(m):\n",
    "        state = state + \"0\"*(1 - (i in modes)) +\"1\"*(i in modes)+ \",\"*(i < m-1)\n",
    "    return pcvl.BasicState(state + \">\")\n",
    "\n",
    "# Display input state\n",
    "input_state = Generating_Input(n, m)\n",
    "print(\"The input state: \", input_state)"
   ]
  },
  {
   "cell_type": "code",
   "execution_count": 33,
   "id": "2c32a3c6",
   "metadata": {},
   "outputs": [
    {
     "name": "stdout",
     "output_type": "stream",
     "text": [
      "10016 bits / 2.3230950832366943 seconds\n",
      "= 4311 bits/sec\n"
     ]
    }
   ],
   "source": [
    "bitMax = 10000; # We want to generate at least bitMax random bits\n",
    "bitNum = 0; # Counter for bits generated\n",
    "\n",
    "import time\n",
    "start_time = time.time()\n",
    "\n",
    "while bitNum <= bitMax:\n",
    "    \n",
    "    S1 = str(Sampling_Backend(Unitary_60).sample(pcvl.BasicState(input_state))) # Saves Sample 1\n",
    "    S2 = str(Sampling_Backend(Unitary_60).sample(pcvl.BasicState(input_state))) # Saves Sample 2\n",
    "    finalString = [] # Saves final string after von-Neuman post processing\n",
    "\n",
    "    for x in range(2*m+1):\n",
    "        if S1[x] == '|' or S1[x] == ',' or S1[x] =='>':\n",
    "            pass\n",
    "        else:\n",
    "            # print(S1[x], S2[x])\n",
    "            if (int(S1[x]) > 0 and int(S2[x]) > 0) or (int(S1[x]) == 0 and int(S2[x]) == 0):\n",
    "                pass\n",
    "            else:\n",
    "                if int(S1[x]) > 0 and int(S2[x])==0:\n",
    "                    finalString.append(0);\n",
    "                else:\n",
    "                    finalString.append(1);\n",
    "\n",
    "    # Append the generated random number in ASCII to the end of a txt file\n",
    "    # Will create file if it does not already exist in directory\n",
    "    f = open('RandBits.txt', 'a')\n",
    "    for x in range(len(finalString)):\n",
    "        f.write(str(finalString[x]))\n",
    "    f.close()\n",
    "    \n",
    "    bitNum += len(finalString)\n",
    "    \n",
    "print(\"%d bits / %s seconds\" % (bitNum, time.time() - start_time))\n",
    "print(\"= %d bits/sec\" % (bitNum/(time.time() - start_time)))"
   ]
  },
  {
   "cell_type": "code",
   "execution_count": null,
   "id": "c5fc7f38",
   "metadata": {},
   "outputs": [],
   "source": [
    "\n"
   ]
  }
 ],
 "metadata": {
  "kernelspec": {
   "display_name": "Python 3 (ipykernel)",
   "language": "python",
   "name": "python3"
  },
  "language_info": {
   "codemirror_mode": {
    "name": "ipython",
    "version": 3
   },
   "file_extension": ".py",
   "mimetype": "text/x-python",
   "name": "python",
   "nbconvert_exporter": "python",
   "pygments_lexer": "ipython3",
   "version": "3.9.12"
  }
 },
 "nbformat": 4,
 "nbformat_minor": 5
}
